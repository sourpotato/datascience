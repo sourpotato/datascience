{
 "cells": [
  {
   "cell_type": "markdown",
   "metadata": {},
   "source": [
    "# Welcome to Learning Jupyter Notebook Part 2\n",
    "---\n",
    "\n",
    "## Six easy ways to run your Jupyter Notebook in the cloud\n",
    "\n",
    "https://www.dataschool.io/cloud-services-for-jupyter-notebook/\n",
    "\n",
    "## MyBinder\n",
    "\n",
    "https://mybinder.org/\n",
    "![MyBinder](https://mybinder.org/static/logo.svg)\n",
    "\n",
    "### Step 1\n",
    "**Enter your repository information**\n",
    "Provide in the above form a URL or a **GitHub repository** that contains Jupyter notebooks, as well as a branch, tag, or commit hash. Launch will build your Binder repository. If you specify a path to a notebook file, the notebook will be opened in your browser after building.\n",
    "### Step 2\n",
    "We build a Docker image of your repository\n",
    "Binder will search for a dependency file, such as requirements.txt or **environment.yml**, in the repository's root directory (more details on more complex dependencies in documentation). The dependency files will be used to build a Docker image. If an image has already been built for the given repository, it will not be rebuilt. If a new commit has been made, the image will automatically be rebuilt.\n",
    "### Step 3\n",
    "Interact with your notebooks in a live environment!\n",
    "A JupyterHub server will **host your repository's contents**. We offer you a reusable link and badge to your live repository that you can easily share with others.\n",
    "\n",
    "### My github accout\n",
    "https://github.com/sourpotato/datascience\n",
    "\n",
    "\n",
    "## Data structures\n",
    "\n",
    "### Python list and Python dictionary\n",
    "\n",
    "from:\n",
    "https://github.com/Pierian-Data/Complete-Python-3-Bootcamp\n",
    "\n",
    "### Pandas dataframes\n",
    "from:\n",
    "https://github.com/Berelarsenp/ds-class-1-intro-to-data-science\n",
    "\n"
   ]
  },
  {
   "cell_type": "code",
   "execution_count": null,
   "metadata": {},
   "outputs": [],
   "source": []
  }
 ],
 "metadata": {
  "kernelspec": {
   "display_name": "Python 3",
   "language": "python",
   "name": "python3"
  },
  "language_info": {
   "codemirror_mode": {
    "name": "ipython",
    "version": 3
   },
   "file_extension": ".py",
   "mimetype": "text/x-python",
   "name": "python",
   "nbconvert_exporter": "python",
   "pygments_lexer": "ipython3",
   "version": "3.7.3"
  }
 },
 "nbformat": 4,
 "nbformat_minor": 2
}
